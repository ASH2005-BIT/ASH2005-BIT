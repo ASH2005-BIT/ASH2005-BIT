{
  "nbformat": 4,
  "nbformat_minor": 0,
  "metadata": {
    "colab": {
      "provenance": []
    },
    "kernelspec": {
      "name": "python3",
      "display_name": "Python 3"
    },
    "language_info": {
      "name": "python"
    }
  },
  "cells": [
    {
      "cell_type": "markdown",
      "source": [
        "  1.What is Python, and why is it popular?\n",
        "\n",
        "\n",
        "*   Python is a high-level, interpreted programming language known for its simplicity and readability.\n",
        "\n",
        "*  It is popular due to its extensive libraries, strong community support, versatility, and use in diverse\n",
        " fields such as web development, data science, AI, and automation .\n",
        "\n",
        "\n",
        "\n"
      ],
      "metadata": {
        "id": "NGKHqo3Z1I4C"
      }
    },
    {
      "cell_type": "markdown",
      "source": [
        "2."
      ],
      "metadata": {
        "id": "k5DU0OXK2ODI"
      }
    },
    {
      "cell_type": "code",
      "source": [],
      "metadata": {
        "id": "yFMzmg_I2SJ_"
      },
      "execution_count": null,
      "outputs": []
    }
  ]
}